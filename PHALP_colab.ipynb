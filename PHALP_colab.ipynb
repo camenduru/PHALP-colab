{
  "cells": [
    {
      "cell_type": "markdown",
      "metadata": {
        "id": "view-in-github"
      },
      "source": [
        "[![Open In Colab](https://colab.research.google.com/assets/colab-badge.svg)](https://colab.research.google.com/github/camenduru/PHALP-colab/blob/main/PHALP_colab.ipynb)"
      ]
    },
    {
      "cell_type": "code",
      "execution_count": null,
      "metadata": {
        "id": "VjYy0F2gZIPR"
      },
      "outputs": [],
      "source": [
        "%cd /content\n",
        "!apt -y install -qq aria2\n",
        "\n",
        "!aria2c --console-log-level=error -c -x 16 -s 16 -k 1M https://huggingface.co/camenduru/phalp/resolve/main/antlr4_python3_runtime-4.9.3-py3-none-any.whl -d /content/whl -o antlr4_python3_runtime-4.9.3-py3-none-any.whl\n",
        "!aria2c --console-log-level=error -c -x 16 -s 16 -k 1M https://huggingface.co/camenduru/phalp/resolve/main/av-10.0.0-cp310-cp310-manylinux_2_17_x86_64.manylinux2014_x86_64.whl -d /content/whl -o av-10.0.0-cp310-cp310-manylinux_2_17_x86_64.manylinux2014_x86_64.whl\n",
        "!aria2c --console-log-level=error -c -x 16 -s 16 -k 1M https://huggingface.co/camenduru/phalp/resolve/main/black-23.7.0-cp310-cp310-manylinux_2_17_x86_64.manylinux2014_x86_64.whl -d /content/whl -o black-23.7.0-cp310-cp310-manylinux_2_17_x86_64.manylinux2014_x86_64.whl\n",
        "!aria2c --console-log-level=error -c -x 16 -s 16 -k 1M https://huggingface.co/camenduru/phalp/resolve/main/chumpy-0.70-py3-none-any.whl -d /content/whl -o chumpy-0.70-py3-none-any.whl\n",
        "!aria2c --console-log-level=error -c -x 16 -s 16 -k 1M https://huggingface.co/camenduru/phalp/resolve/main/numpy-1.23.0-cp310-cp310-manylinux_2_17_x86_64.manylinux2014_x86_64.whl -d /content/whl -o numpy-1.23.0-cp310-cp310-manylinux_2_17_x86_64.manylinux2014_x86_64.whl\n",
        "!aria2c --console-log-level=error -c -x 16 -s 16 -k 1M https://huggingface.co/camenduru/phalp/resolve/main/detectron2-0.6-cp310-cp310-linux_x86_64.whl -d /content/whl -o detectron2-0.6-cp310-cp310-linux_x86_64.whl\n",
        "!aria2c --console-log-level=error -c -x 16 -s 16 -k 1M https://huggingface.co/camenduru/phalp/resolve/main/dill-0.3.7-py3-none-any.whl -d /content/whl -o dill-0.3.7-py3-none-any.whl\n",
        "!aria2c --console-log-level=error -c -x 16 -s 16 -k 1M https://huggingface.co/camenduru/phalp/resolve/main/einops-0.6.1-py3-none-any.whl -d /content/whl -o einops-0.6.1-py3-none-any.whl\n",
        "!aria2c --console-log-level=error -c -x 16 -s 16 -k 1M https://huggingface.co/camenduru/phalp/resolve/main/freetype_py-2.4.0-py3-none-manylinux_2_5_x86_64.manylinux1_x86_64.manylinux_2_12_x86_64.manylinux2010_x86_64.whl -d /content/whl -o freetype_py-2.4.0-py3-none-manylinux_2_5_x86_64.manylinux1_x86_64.manylinux_2_12_x86_64.manylinux2010_x86_64.whl\n",
        "!aria2c --console-log-level=error -c -x 16 -s 16 -k 1M https://huggingface.co/camenduru/phalp/resolve/main/fvcore-0.1.5.post20221221-py3-none-any.whl -d /content/whl -o fvcore-0.1.5.post20221221-py3-none-any.whl\n",
        "!aria2c --console-log-level=error -c -x 16 -s 16 -k 1M https://huggingface.co/camenduru/phalp/resolve/main/hmr2-0.0.0-py3-none-any.whl -d /content/whl -o hmr2-0.0.0-py3-none-any.whl\n",
        "!aria2c --console-log-level=error -c -x 16 -s 16 -k 1M https://huggingface.co/camenduru/phalp/resolve/main/hydra_core-1.3.2-py3-none-any.whl -d /content/whl -o hydra_core-1.3.2-py3-none-any.whl\n",
        "!aria2c --console-log-level=error -c -x 16 -s 16 -k 1M https://huggingface.co/camenduru/phalp/resolve/main/iopath-0.1.9-py3-none-any.whl -d /content/whl -o iopath-0.1.9-py3-none-any.whl\n",
        "!aria2c --console-log-level=error -c -x 16 -s 16 -k 1M https://huggingface.co/camenduru/phalp/resolve/main/lightning_utilities-0.9.0-py3-none-any.whl -d /content/whl -o lightning_utilities-0.9.0-py3-none-any.whl\n",
        "!aria2c --console-log-level=error -c -x 16 -s 16 -k 1M https://huggingface.co/camenduru/phalp/resolve/main/mypy_extensions-1.0.0-py3-none-any.whl -d /content/whl -o mypy_extensions-1.0.0-py3-none-any.whl\n",
        "!aria2c --console-log-level=error -c -x 16 -s 16 -k 1M https://huggingface.co/camenduru/phalp/resolve/main/omegaconf-2.3.0-py3-none-any.whl -d /content/whl -o omegaconf-2.3.0-py3-none-any.whl\n",
        "!aria2c --console-log-level=error -c -x 16 -s 16 -k 1M https://huggingface.co/camenduru/phalp/resolve/main/pathspec-0.11.2-py3-none-any.whl -d /content/whl -o pathspec-0.11.2-py3-none-any.whl\n",
        "!aria2c --console-log-level=error -c -x 16 -s 16 -k 1M https://huggingface.co/camenduru/phalp/resolve/main/phalp-0.1.3-py3-none-any.whl -d /content/whl -o phalp-0.1.3-py3-none-any.whl\n",
        "!aria2c --console-log-level=error -c -x 16 -s 16 -k 1M https://huggingface.co/camenduru/phalp/resolve/main/portalocker-2.7.0-py2.py3-none-any.whl -d /content/whl -o portalocker-2.7.0-py2.py3-none-any.whl\n",
        "!aria2c --console-log-level=error -c -x 16 -s 16 -k 1M https://huggingface.co/camenduru/phalp/resolve/main/pyglet-2.0.9-py3-none-any.whl -d /content/whl -o pyglet-2.0.9-py3-none-any.whl\n",
        "!aria2c --console-log-level=error -c -x 16 -s 16 -k 1M https://huggingface.co/camenduru/phalp/resolve/main/pyrender-0.1.45-py3-none-any.whl -d /content/whl -o pyrender-0.1.45-py3-none-any.whl\n",
        "!aria2c --console-log-level=error -c -x 16 -s 16 -k 1M https://huggingface.co/camenduru/phalp/resolve/main/pytorch_lightning-2.0.6-py3-none-any.whl -d /content/whl -o pytorch_lightning-2.0.6-py3-none-any.whl\n",
        "!aria2c --console-log-level=error -c -x 16 -s 16 -k 1M https://huggingface.co/camenduru/phalp/resolve/main/pytube-15.0.0-py3-none-any.whl -d /content/whl -o pytube-15.0.0-py3-none-any.whl\n",
        "!aria2c --console-log-level=error -c -x 16 -s 16 -k 1M https://huggingface.co/camenduru/phalp/resolve/main/safetensors-0.3.1-cp310-cp310-manylinux_2_17_x86_64.manylinux2014_x86_64.whl -d /content/whl -o safetensors-0.3.1-cp310-cp310-manylinux_2_17_x86_64.manylinux2014_x86_64.whl\n",
        "!aria2c --console-log-level=error -c -x 16 -s 16 -k 1M https://huggingface.co/camenduru/phalp/resolve/main/scenedetect-0.6.2-py3-none-any.whl -d /content/whl -o scenedetect-0.6.2-py3-none-any.whl\n",
        "!aria2c --console-log-level=error -c -x 16 -s 16 -k 1M https://huggingface.co/camenduru/phalp/resolve/main/smplx-0.1.28-py3-none-any.whl -d /content/whl -o smplx-0.1.28-py3-none-any.whl\n",
        "!aria2c --console-log-level=error -c -x 16 -s 16 -k 1M https://huggingface.co/camenduru/phalp/resolve/main/timm-0.9.5-py3-none-any.whl -d /content/whl -o timm-0.9.5-py3-none-any.whl\n",
        "!aria2c --console-log-level=error -c -x 16 -s 16 -k 1M https://huggingface.co/camenduru/phalp/resolve/main/torchmetrics-1.0.2-py3-none-any.whl -d /content/whl -o torchmetrics-1.0.2-py3-none-any.whl\n",
        "!aria2c --console-log-level=error -c -x 16 -s 16 -k 1M https://huggingface.co/camenduru/phalp/resolve/main/trimesh-3.23.0-py3-none-any.whl -d /content/whl -o trimesh-3.23.0-py3-none-any.whl\n",
        "!aria2c --console-log-level=error -c -x 16 -s 16 -k 1M https://huggingface.co/camenduru/phalp/resolve/main/yacs-0.1.8-py3-none-any.whl -d /content/whl -o yacs-0.1.8-py3-none-any.whl\n",
        "!aria2c --console-log-level=error -c -x 16 -s 16 -k 1M https://github.com/camenduru/insightface-face-detection-colab/releases/download/v0.1/mmcv-2.0.1-cp310-cp310-linux_x86_64.whl -d /content/whl -o mmcv-2.0.1-cp310-cp310-linux_x86_64.whl\n",
        "\n",
        "!pip install -q /content/whl/antlr4_python3_runtime-4.9.3-py3-none-any.whl\n",
        "!pip install -q /content/whl/av-10.0.0-cp310-cp310-manylinux_2_17_x86_64.manylinux2014_x86_64.whl\n",
        "!pip install -q /content/whl/black-23.7.0-cp310-cp310-manylinux_2_17_x86_64.manylinux2014_x86_64.whl\n",
        "!pip install -q /content/whl/chumpy-0.70-py3-none-any.whl\n",
        "!pip install -q /content/whl/numpy-1.23.0-cp310-cp310-manylinux_2_17_x86_64.manylinux2014_x86_64.whl\n",
        "!pip install -q /content/whl/detectron2-0.6-cp310-cp310-linux_x86_64.whl\n",
        "!pip install -q /content/whl/dill-0.3.7-py3-none-any.whl\n",
        "!pip install -q /content/whl/einops-0.6.1-py3-none-any.whl\n",
        "!pip install -q /content/whl/freetype_py-2.4.0-py3-none-manylinux_2_5_x86_64.manylinux1_x86_64.manylinux_2_12_x86_64.manylinux2010_x86_64.whl\n",
        "!pip install -q /content/whl/fvcore-0.1.5.post20221221-py3-none-any.whl\n",
        "!pip install -q /content/whl/hmr2-0.0.0-py3-none-any.whl\n",
        "!pip install -q /content/whl/hydra_core-1.3.2-py3-none-any.whl\n",
        "!pip install -q /content/whl/iopath-0.1.9-py3-none-any.whl\n",
        "!pip install -q /content/whl/lightning_utilities-0.9.0-py3-none-any.whl\n",
        "!pip install -q /content/whl/mypy_extensions-1.0.0-py3-none-any.whl\n",
        "!pip install -q /content/whl/omegaconf-2.3.0-py3-none-any.whl\n",
        "!pip install -q /content/whl/pathspec-0.11.2-py3-none-any.whl\n",
        "!pip install -q /content/whl/phalp-0.1.3-py3-none-any.whl\n",
        "!pip install -q /content/whl/portalocker-2.7.0-py2.py3-none-any.whl\n",
        "!pip install -q /content/whl/pyglet-2.0.9-py3-none-any.whl\n",
        "!pip install -q /content/whl/pyrender-0.1.45-py3-none-any.whl\n",
        "!pip install -q /content/whl/pytorch_lightning-2.0.6-py3-none-any.whl\n",
        "!pip install -q /content/whl/pytube-15.0.0-py3-none-any.whl\n",
        "!pip install -q /content/whl/safetensors-0.3.1-cp310-cp310-manylinux_2_17_x86_64.manylinux2014_x86_64.whl\n",
        "!pip install -q /content/whl/scenedetect-0.6.2-py3-none-any.whl\n",
        "!pip install -q /content/whl/smplx-0.1.28-py3-none-any.whl\n",
        "!pip install -q /content/whl/timm-0.9.5-py3-none-any.whl\n",
        "!pip install -q /content/whl/torchmetrics-1.0.2-py3-none-any.whl\n",
        "!pip install -q /content/whl/trimesh-3.23.0-py3-none-any.whl\n",
        "!pip install -q /content/whl/yacs-0.1.8-py3-none-any.whl\n",
        "\n",
        "!git clone https://github.com/brjathu/PHALP"
      ]
    },
    {
      "cell_type": "code",
      "execution_count": null,
      "metadata": {},
      "outputs": [],
      "source": [
        "%cd /content/PHALP\n",
        "!python scripts/demo.py video.source=assets/videos/gymnasts.mp4 video.start_frame=50 video.end_frame=100"
      ]
    }
  ],
  "metadata": {
    "accelerator": "GPU",
    "colab": {
      "gpuType": "T4",
      "provenance": []
    },
    "kernelspec": {
      "display_name": "Python 3",
      "name": "python3"
    },
    "language_info": {
      "name": "python"
    }
  },
  "nbformat": 4,
  "nbformat_minor": 0
}
